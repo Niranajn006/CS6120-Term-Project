{
 "cells": [
  {
   "cell_type": "code",
   "execution_count": 30,
   "metadata": {},
   "outputs": [],
   "source": [
    "import pandas as pd\n",
    "import numpy as np\n",
    "\n",
    "from sklearn import svm"
   ]
  },
  {
   "cell_type": "code",
   "execution_count": 13,
   "metadata": {},
   "outputs": [],
   "source": [
    "# Columns: ['data', 'filenames', 'target_names', 'target', 'source', 'partition', 'doc_vector']\n",
    "data = pd.read_pickle('data/newsgroup_vectors.pkl')"
   ]
  },
  {
   "cell_type": "code",
   "execution_count": 24,
   "metadata": {},
   "outputs": [],
   "source": [
    "shuffled_idxs = data.index.values # Not actually shuffled yet\n",
    "np.random.shuffle(shuffled_idxs) # Shuffles inplace\n",
    "\n",
    "train_perc = .8\n",
    "split_idx = round(len(shuffled_idxs) * .8)\n",
    "\n",
    "train = data.iloc[0:split_idx].reset_index(drop=True)\n",
    "text = data[split_idx:-1].reset_index(drop=True)"
   ]
  },
  {
   "cell_type": "code",
   "execution_count": 32,
   "metadata": {},
   "outputs": [
    {
     "data": {
      "text/plain": [
       "0.6163693042382437"
      ]
     },
     "execution_count": 32,
     "metadata": {},
     "output_type": "execute_result"
    }
   ],
   "source": [
    "X = train.doc_vector.tolist()\n",
    "y = train.target.tolist()\n",
    "\n",
    "clf = svm.SVC(gamma='scale', decision_function_shape='ovo').fit(X, y)\n",
    "\n",
    "clf.score(X, y) # Only reports score"
   ]
  },
  {
   "cell_type": "code",
   "execution_count": null,
   "metadata": {},
   "outputs": [],
   "source": []
  }
 ],
 "metadata": {
  "kernelspec": {
   "display_name": "Python 3",
   "language": "python",
   "name": "python3"
  },
  "language_info": {
   "codemirror_mode": {
    "name": "ipython",
    "version": 3
   },
   "file_extension": ".py",
   "mimetype": "text/x-python",
   "name": "python",
   "nbconvert_exporter": "python",
   "pygments_lexer": "ipython3",
   "version": "3.7.1"
  }
 },
 "nbformat": 4,
 "nbformat_minor": 2
}
